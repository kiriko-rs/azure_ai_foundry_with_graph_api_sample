{
 "cells": [
  {
   "cell_type": "markdown",
   "metadata": {},
   "source": [
    "# Microsoft Graph API クライアントのセットアップ\n",
    "ローカル環境で `az login` 済みであれば、 `AzureCliCredential` を用いることで簡単に認証できます。\n",
    "以下のセルを実行し、必要なパッケージをインストールした後、クライアントを初期化してください。"
   ]
  },
  {
   "cell_type": "code",
   "execution_count": null,
   "metadata": {},
   "outputs": [],
   "source": [
    "!pip install msgraph-core azure-identity --quiet\n",
    "\n",
    "from azure.identity import AzureCliCredential\n",
    "from msgraph.core import GraphClient\n",
    "\n",
    "credential = AzureCliCredential()\n",
    "graph_client = GraphClient(credential=credential)\n",
    "\n",
    "# 例: 自分のユーザー情報を取得\n",
    "me = graph_client.get('/v1.0/me').json()\n",
    "print(me['displayName'])\n"
   ]
  }
 ],
 "metadata": {
  "language_info": {
   "name": "python"
  }
 },
 "nbformat": 4,
 "nbformat_minor": 5
}